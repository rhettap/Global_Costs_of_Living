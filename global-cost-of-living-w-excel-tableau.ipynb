{
 "cells": [
  {
   "cell_type": "markdown",
   "id": "6c1b5c9d",
   "metadata": {
    "papermill": {
     "duration": 0.006906,
     "end_time": "2023-04-07T12:24:46.484380",
     "exception": false,
     "start_time": "2023-04-07T12:24:46.477474",
     "status": "completed"
    },
    "tags": []
   },
   "source": [
    "# Comparing the cost of living around the globe\n",
    "\n",
    "In this analysis, I will be exploring the costs of living worldwide. I'll be using data that Miguel Piedade scraped from Numbeo. The data can be found here: https://www.kaggle.com/datasets/mvieira101/global-cost-of-living. \n",
    "\n",
    "So the thing with this data is that it comes from a site called Numbeo. From what little I've read online, this site is not necessarily known for having completely accurate data. There's even a column in the dataset called \"Data quality\" which is a binary value indicating whether or not more data is needed for more accurate results. I just want to note before we dive into this analysis that I wouldn't use this data in a professional setting. I would do a bit more research to get a more accurate/reputable source of data. That being said, I'm still going to use this dataset in my analysis here because I'm really just playing around with what can be done in Tableau as opposed to trying to draw business driving conclusions from the data. \n",
    "\n",
    "** It should also be noted that all of this data is the US dollar equivalent cost in each country. All of the metrics are in US dollars. \n"
   ]
  },
  {
   "cell_type": "markdown",
   "id": "885c39b9",
   "metadata": {
    "papermill": {
     "duration": 0.005424,
     "end_time": "2023-04-07T12:24:46.496157",
     "exception": false,
     "start_time": "2023-04-07T12:24:46.490733",
     "status": "completed"
    },
    "tags": []
   },
   "source": [
    "# Excel: \n",
    "In this analysis, I won't be using Excel much; mainly just to do a small amount of cleaning. Most of my work for this project will be in Tableau. \n",
    "\n",
    "\n",
    "I've downloaded the CSV files and started by opening them in Excel just to get an overview of the data. \n",
    "\n",
    "[![Screenshot-2022-12-12-at-8-21-21-AM.png](https://i.postimg.cc/Y0PpMG8f/Screenshot-2022-12-12-at-8-21-21-AM.png)](https://postimg.cc/dZ8M90bL)"
   ]
  },
  {
   "cell_type": "markdown",
   "id": "e79173fb",
   "metadata": {
    "papermill": {
     "duration": 0.005283,
     "end_time": "2023-04-07T12:24:46.507045",
     "exception": false,
     "start_time": "2023-04-07T12:24:46.501762",
     "status": "completed"
    },
    "tags": []
   },
   "source": [
    "I've noticed that the first CSV file is indexed and the second one isn't. I will have to remove this index so that I can do a proper union in Tableau when I combine the dataset. All of the other rows seem to be in alignment, so a union should work perfectly.\n",
    "\n",
    "Another thing that I've noticed is that the column names are represented with numbers instead of their actual, descriptive values. I'll update these to their actual names to make it easier to see what values are at play on screen.\n",
    "\n",
    "[![Screenshot-2022-12-12-at-8-23-56-AM.png](https://i.postimg.cc/HsP21YmY/Screenshot-2022-12-12-at-8-23-56-AM.png)](https://postimg.cc/VdnMjc5p)\n",
    "\n",
    "These are the corresponding fields for the numbers. (not all fields pictured)"
   ]
  },
  {
   "cell_type": "markdown",
   "id": "ae45a735",
   "metadata": {
    "papermill": {
     "duration": 0.005394,
     "end_time": "2023-04-07T12:24:46.518008",
     "exception": false,
     "start_time": "2023-04-07T12:24:46.512614",
     "status": "completed"
    },
    "tags": []
   },
   "source": [
    "Since the data fields will be the same, I'm going to first delete the indexed column and then create a macro so that the second sheet can be completed instantly. \n",
    "\n",
    "[![Screenshot-2022-12-12-at-8-32-18-AM.png](https://i.postimg.cc/B6gtFBBq/Screenshot-2022-12-12-at-8-32-18-AM.png)](https://postimg.cc/wy168JrP)\n",
    "\n",
    "As I'm updating the field names, I'm thinking back to my last project and the problems I had with the commas in descriptions being interpreted as delimeters. Many of the fields have commas in the descriptions, so I'm going to save this as an Excel workbook so that a CSV file doesn't get misinterpreted. \n",
    "\n",
    "[![Screenshot-2022-12-12-at-9-01-16-AM.png](https://i.postimg.cc/43GJ1hdn/Screenshot-2022-12-12-at-9-01-16-AM.png)](https://postimg.cc/75B8HhSy)\n"
   ]
  },
  {
   "cell_type": "markdown",
   "id": "19987ba1",
   "metadata": {
    "papermill": {
     "duration": 0.005332,
     "end_time": "2023-04-07T12:24:46.528901",
     "exception": false,
     "start_time": "2023-04-07T12:24:46.523569",
     "status": "completed"
    },
    "tags": []
   },
   "source": [
    "Okay time to run the macro on the second file! \n",
    "\n",
    "[![Screenshot-2022-12-12-at-9-05-46-AM.png](https://i.postimg.cc/kgsnfgtc/Screenshot-2022-12-12-at-9-05-46-AM.png)](https://postimg.cc/5XHdt1gY)\n",
    "\n",
    "And instantly we have the second sheet with all of the exact same column labels so that the union can join with exact column matches, and I don't have to waste time going through and retyping all of the column names and making sure that they are the exact same. \n",
    "\n",
    "Instead of having these as separate workbooks and uploading them to Tableau, I've combined both files into one workbook under separate sheets. Time to take this data over to our good friend Tableau."
   ]
  },
  {
   "cell_type": "markdown",
   "id": "ec67a96f",
   "metadata": {
    "papermill": {
     "duration": 0.005456,
     "end_time": "2023-04-07T12:24:46.540072",
     "exception": false,
     "start_time": "2023-04-07T12:24:46.534616",
     "status": "completed"
    },
    "tags": []
   },
   "source": [
    "# Tableau: \n",
    "\n",
    "### Cleaning & Organzing\n",
    "Alright the data is all good to go in Excel. Next, let's get these uploaded in Tableau, unioned, and then do a little cleaning and organizing. "
   ]
  },
  {
   "cell_type": "markdown",
   "id": "ce030808",
   "metadata": {
    "papermill": {
     "duration": 0.005318,
     "end_time": "2023-04-07T12:24:46.550899",
     "exception": false,
     "start_time": "2023-04-07T12:24:46.545581",
     "status": "completed"
    },
    "tags": []
   },
   "source": [
    "[![Screenshot-2022-12-12-at-9-26-17-AM.png](https://i.postimg.cc/0jfb1dB6/Screenshot-2022-12-12-at-9-26-17-AM.png)](https://postimg.cc/D4S2qsFF)\n",
    "\n",
    "Alright I've uploaded the combined Excel workbook to Tableau and unioned the two tables together. The city and country fields have already been interpreted as Geographic fields which is exactly what I wanted. Looking at the metadata, I see that there are 9,830 observances, and I remember each CSV file being in the range of 4,000-5,000 observances, so it seems our union has been a success. "
   ]
  },
  {
   "cell_type": "markdown",
   "id": "2fadffd3",
   "metadata": {
    "papermill": {
     "duration": 0.005314,
     "end_time": "2023-04-07T12:24:46.561728",
     "exception": false,
     "start_time": "2023-04-07T12:24:46.556414",
     "status": "completed"
    },
    "tags": []
   },
   "source": [
    "I've multi-selected all of the numerical measures and changed them to type floating as opposed to string. Tableau doesn't have a currency type in this view, so I opted for float for now. I will adjust these later. Some of the floats were misinterpreted as geographic, so I had to remove the geographic linking. \n",
    "[![Screenshot-2022-12-12-at-9-32-25-AM.png](https://i.postimg.cc/zfKhPW8h/Screenshot-2022-12-12-at-9-32-25-AM.png)](https://postimg.cc/t1R7ss1R)"
   ]
  },
  {
   "cell_type": "markdown",
   "id": "b252348c",
   "metadata": {
    "papermill": {
     "duration": 0.006335,
     "end_time": "2023-04-07T12:24:46.575099",
     "exception": false,
     "start_time": "2023-04-07T12:24:46.568764",
     "status": "completed"
    },
    "tags": []
   },
   "source": [
    "[![Screenshot-2022-12-12-at-9-33-07-AM.png](https://i.postimg.cc/qqLSczNV/Screenshot-2022-12-12-at-9-33-07-AM.png)](https://postimg.cc/D4SxnfQB) \n",
    "\n",
    "I've also hidden the dimensions denoting the tables where the data came from. This doesn't matter to me since it is all unioned and uniformed data."
   ]
  },
  {
   "cell_type": "markdown",
   "id": "e59d7b9e",
   "metadata": {
    "papermill": {
     "duration": 0.005334,
     "end_time": "2023-04-07T12:24:46.585993",
     "exception": false,
     "start_time": "2023-04-07T12:24:46.580659",
     "status": "completed"
    },
    "tags": []
   },
   "source": [
    "[![Screenshot-2022-12-12-at-9-56-31-AM.png](https://i.postimg.cc/PrZ9MXRR/Screenshot-2022-12-12-at-9-56-31-AM.png)](https://postimg.cc/F7rTr4my)\n",
    "\n",
    "Well this dataset is a bit unique in that there isn't much in the way of dimensions. Just the city and country which double as geographic fields. Most of my data is in the form of measures. Upon opening my first sheet, I noticed that a few of the measures (Apartments,Price per sq.m, etc.) were misinterpreted as dimensions. I'll go ahead and change those back.There were also some measures that were being shown as discrete values; I want all of these measures (for now) to be continuous, so I've flipped them back. \n",
    "\n",
    "It also looks like city and country were put into a hierarchy, so that saves me a step of doing it manually.\n"
   ]
  },
  {
   "cell_type": "markdown",
   "id": "59370ebe",
   "metadata": {
    "papermill": {
     "duration": 0.005563,
     "end_time": "2023-04-07T12:24:46.597170",
     "exception": false,
     "start_time": "2023-04-07T12:24:46.591607",
     "status": "completed"
    },
    "tags": []
   },
   "source": [
    "[![Screenshot-2022-12-12-at-10-10-57-AM.png](https://i.postimg.cc/RVZ5v5ss/Screenshot-2022-12-12-at-10-10-57-AM.png)](https://postimg.cc/7bdQNcy0)\n",
    "\n",
    "All of the measures were a bit disorganized and bunched together randomly, so I created separate folders for different categories to help organize the data a little better. "
   ]
  },
  {
   "cell_type": "markdown",
   "id": "cc3323a8",
   "metadata": {
    "papermill": {
     "duration": 0.005387,
     "end_time": "2023-04-07T12:24:46.608164",
     "exception": false,
     "start_time": "2023-04-07T12:24:46.602777",
     "status": "completed"
    },
    "tags": []
   },
   "source": [
    "### Bananas\n",
    "To start, I wanted to do something simple.So let's look at the average banana price across all countries. I added color and label marks to help make the data more visually appealing. I also sorted descending by highest average cost. In this screenshot, we are only able to capture a partial view of the data, but these were the biggest offenders as far as prices per 1kg.\n",
    "\n",
    "[![Bananas.png](https://i.postimg.cc/y8YHDyhK/Bananas.png)](https://postimg.cc/w7PPPJb4)\n",
    "\n",
    "Next, I added in an average line so that we could see how the \"highest average banana cost\" countries compare to the overall worldly average. Finally, I put in an annotation to help express this point more clearly.\n",
    "\n",
    "**Note**: I chose the colors (red/yellow/green) to represent common banana colorations. This color scheme seems to work well with the data being shown, but in the future I would take into account people with color blindness when choosing which colors to display."
   ]
  },
  {
   "cell_type": "markdown",
   "id": "e717cf9f",
   "metadata": {
    "papermill": {
     "duration": 0.005287,
     "end_time": "2023-04-07T12:24:46.618978",
     "exception": false,
     "start_time": "2023-04-07T12:24:46.613691",
     "status": "completed"
    },
    "tags": []
   },
   "source": [
    "### Beer\n",
    "Next, I wanted to compare the cost of buying a beer in a restaurant vs. a market (grocery store) across the countries. I've created a bar chart to show the difference here.  \n",
    "\n",
    "[![Calcualated-column.png](https://i.postimg.cc/sgtnZ5bx/Calcualated-column.png)](https://postimg.cc/WdwmBqNc)\n",
    "\n",
    "I put both metrics on a dual axis and sychronized the axis. I then created a calculated column to show the price difference between the market and a restaurant.I'll use this as a filter to then show the top 10 countries with the biggest price difference between their average market and restaurant prices. Since there's no \"top n\" functions with mesasures, I'll have to do this manually by selecting from the dropdown. I did however convert the \"avg. price difference\" calculated column to discrete values. \n",
    "\n",
    "[![Beer-prices.png](https://i.postimg.cc/tCckLhqk/Beer-prices.png)](https://postimg.cc/7fgSzJTJ)\n",
    "\n",
    "The labels on top of each column denote the price difference between the average price in a restaurant for a domestic beer minus the average price for a domestic beer in the market. I thought this might be confusing to some viewers so I added in an annotation to clearly describe what this visualization was showing.\n",
    "\n",
    "\n",
    "**Note**: I realized a little late that for the \"Banana\" and \"Beer\" visualizations I didn't highlight my process as well through screenshots as I would have liked. I'll make sure for the other vizzes to get more screenshots of me working through the process. "
   ]
  },
  {
   "cell_type": "markdown",
   "id": "656efaf8",
   "metadata": {
    "papermill": {
     "duration": 0.005366,
     "end_time": "2023-04-07T12:24:46.629904",
     "exception": false,
     "start_time": "2023-04-07T12:24:46.624538",
     "status": "completed"
    },
    "tags": []
   },
   "source": [
    "### Apartment\n",
    "For the next viz, I want to take a look at just the cities in the United States. I'm going to add a filter on countries to accomplish this, and then we'll look at doing a geographical visualization. \n",
    "\n",
    "[![map.png](https://i.postimg.cc/NM9pDczg/map.png)](https://postimg.cc/WFVGpQVK)\n",
    "\n",
    "I want to get an overall sense for the living costs across the different cities in the United States. To do this, I'm going to create another calculated cost which will get the average cost for a 1 bedroom apartment(outside the city center) and all of the utilities for the apartment. \n",
    "[![map-calulated-column.png](https://i.postimg.cc/dQG7zVpz/map-calulated-column.png)](https://postimg.cc/XX7754V8)\n",
    "\n",
    "**Note** : The utilities calculation is for a 85m2 apartment. I did a conversion online and found that is about 915sq.ft. I next googled average 1 bedroom apartment sizes in the United States and found that 915 sq.ft. is in the accepted range, but might be considered at the larger end. All of that goes to say, the utilities calculation may have some natural discrepancies depending on the actual size of the apartment you end up renting/how much electricity you use/etc."
   ]
  },
  {
   "cell_type": "markdown",
   "id": "add0bbf7",
   "metadata": {
    "papermill": {
     "duration": 0.005238,
     "end_time": "2023-04-07T12:24:46.640684",
     "exception": false,
     "start_time": "2023-04-07T12:24:46.635446",
     "status": "completed"
    },
    "tags": []
   },
   "source": [
    "[![density-map.png](https://i.postimg.cc/HWyVDkcQ/density-map.png)](https://postimg.cc/5jfx81m0)\n",
    "\n",
    "I was playing around with how I wanted to visualize this data. At first I just added color and size marks, but I wasn't completely sold on the visualization produced. There were too many overlapping dots and you couldn't get a good feel for what was really going on. I decided to change to a heat map because I thought it aggregated the high living costs areas in a bit more aesthetically pleasing manner. \n",
    "\n",
    "[![Context-filter.png](https://i.postimg.cc/25NDPhJW/Context-filter.png)](https://postimg.cc/jDcmfwRq)\n",
    "\n",
    "I think overall the heat map does a good job of showing areas of the country notorious for high living costs (SoCal, NY, Chicago, Miami area, etc.), but I do have my doubts about some of the data points. I wanted to investigate individual cities, so I added in a city filter. In order to not get a massive list of every country's cities in the world, I added the country filter in context so that I would just get US cities. \n",
    "\n",
    "Some of the indiviual cities I pinpointed definitely had some questionable metrics, but this goes back to data quality and the fact that I'm not driving business decisions with this data."
   ]
  },
  {
   "cell_type": "markdown",
   "id": "57a474e3",
   "metadata": {
    "papermill": {
     "duration": 0.00538,
     "end_time": "2023-04-07T12:24:46.651644",
     "exception": false,
     "start_time": "2023-04-07T12:24:46.646264",
     "status": "completed"
    },
    "tags": []
   },
   "source": [
    "[![outdoors-map.png](https://i.postimg.cc/Sj0w9pcP/outdoors-map.png)](https://postimg.cc/XB8HMmHK)\n",
    "\n",
    "I also decided to change the map type to \"outdoors\" and add another annotation so it would be more visually appealing and informative. \n",
    "\n",
    "Alright I think our map is looking pretty good! Let's do one more visualization before we pull it all together in a dashboard view."
   ]
  },
  {
   "cell_type": "markdown",
   "id": "73dd3381",
   "metadata": {
    "papermill": {
     "duration": 0.005558,
     "end_time": "2023-04-07T12:24:46.662883",
     "exception": false,
     "start_time": "2023-04-07T12:24:46.657325",
     "status": "completed"
    },
    "tags": []
   },
   "source": [
    "### Toyota\n",
    "\n",
    "For this final viz, I want to look at what the top 20 countries are that have the highest and lowest prices for a new Toyota Corolla (or equivalent car). Then I will find the country with the highest/lowest price and break it down by city from there. \n",
    "\n",
    "I started by getting the top 20 countries by average price of the Toyota. I added a filter to only show 20. \n",
    "\n",
    "[![1.png](https://i.postimg.cc/BZ5BDK2v/1.png)](https://postimg.cc/c6H3G69q)\n",
    "\n",
    "\n",
    "I then used the heirarchy (+) button to break it down into cities. From here I saw that Iran had the highest average prices for Toyota Corollas (henceforth referred to as TC(s) ). \n",
    "\n",
    "[![2.png](https://i.postimg.cc/2y3jzvDx/2.png)](https://postimg.cc/XBS6LrXZ)\n",
    "\n",
    "I then filtered the data down to only the cities in Iran. I noticed there were some null values. \n",
    "\n",
    "[![4.png](https://i.postimg.cc/yNY8f2b5/4.png)](https://postimg.cc/gxQpjtdq)\n",
    "\n",
    "I added another filter to include only values that were non-null. \n",
    "\n",
    "[![5.png](https://i.postimg.cc/FHFvm3Vk/5.png)](https://postimg.cc/ykGtyJ57)\n",
    "\n",
    "Next I duplicated the Iran sheet so as to make it easier to get the bottom average TC values. \n",
    "[![6.png](https://i.postimg.cc/Pr9bnQj2/6.png)](https://postimg.cc/N5821TLH)\n",
    "\n",
    "Initially, I was presented with a bunch of nulls at the low end, so I had to\n",
    "reset the filters. Here I found Cameroon to be the country with the cheapest TCs by average price. Once again I broke the view down to city for Cameroon.\n",
    "\n",
    "[![7.png](https://i.postimg.cc/L47gJ4bs/7.png)](https://postimg.cc/Rq7Z8m9r)\n",
    "\n"
   ]
  },
  {
   "cell_type": "markdown",
   "id": "2e84d491",
   "metadata": {
    "papermill": {
     "duration": 0.005482,
     "end_time": "2023-04-07T12:24:46.674086",
     "exception": false,
     "start_time": "2023-04-07T12:24:46.668604",
     "status": "completed"
    },
    "tags": []
   },
   "source": [
    "I then narrowed down the data to the top 3 highest and lowest average TC prices from Iran and Cameroon's cities respectively. \n",
    "\n",
    "[![Screenshot-2022-12-13-at-12-40-33-PM.png](https://i.postimg.cc/SQCb9kSr/Screenshot-2022-12-13-at-12-40-33-PM.png)](https://postimg.cc/xqfZDrbJ)\n",
    "\n",
    "[![Screenshot-2022-12-13-at-12-40-27-PM.png](https://i.postimg.cc/Z5TmZ2hL/Screenshot-2022-12-13-at-12-40-27-PM.png)](https://postimg.cc/F7n8VPzf)"
   ]
  },
  {
   "cell_type": "markdown",
   "id": "df8ec2a6",
   "metadata": {
    "papermill": {
     "duration": 0.005321,
     "end_time": "2023-04-07T12:24:46.684993",
     "exception": false,
     "start_time": "2023-04-07T12:24:46.679672",
     "status": "completed"
    },
    "tags": []
   },
   "source": [
    "From here, I added in the average price of gas (per 1 liter) into another column. \n",
    "[![Screenshot-2022-12-13-at-12-49-07-PM.png](https://i.postimg.cc/50HFj2D5/Screenshot-2022-12-13-at-12-49-07-PM.png)](https://postimg.cc/r0kpPMVz)"
   ]
  },
  {
   "cell_type": "markdown",
   "id": "cf3975a7",
   "metadata": {
    "papermill": {
     "duration": 0.005432,
     "end_time": "2023-04-07T12:24:46.696005",
     "exception": false,
     "start_time": "2023-04-07T12:24:46.690573",
     "status": "completed"
    },
    "tags": []
   },
   "source": [
    "I'm going to create one more sheet just to get the averages in America to use as a baseline. \n",
    "\n",
    "[![Screenshot-2022-12-13-at-12-52-36-PM.png](https://i.postimg.cc/T3WSjVmB/Screenshot-2022-12-13-at-12-52-36-PM.png)](https://postimg.cc/dhw4wT59)"
   ]
  },
  {
   "cell_type": "markdown",
   "id": "e3c66e83",
   "metadata": {
    "papermill": {
     "duration": 0.005386,
     "end_time": "2023-04-07T12:24:46.707245",
     "exception": false,
     "start_time": "2023-04-07T12:24:46.701859",
     "status": "completed"
    },
    "tags": []
   },
   "source": [
    "That concludes the last visual(s) to be used in our dashboard. Lets put everything together now."
   ]
  },
  {
   "cell_type": "markdown",
   "id": "e243edd3",
   "metadata": {
    "papermill": {
     "duration": 0.005493,
     "end_time": "2023-04-07T12:24:46.718364",
     "exception": false,
     "start_time": "2023-04-07T12:24:46.712871",
     "status": "completed"
    },
    "tags": []
   },
   "source": [
    "## Dashboard"
   ]
  },
  {
   "cell_type": "markdown",
   "id": "70960a68",
   "metadata": {
    "papermill": {
     "duration": 0.005397,
     "end_time": "2023-04-07T12:24:46.729356",
     "exception": false,
     "start_time": "2023-04-07T12:24:46.723959",
     "status": "completed"
    },
    "tags": []
   },
   "source": [
    "Alright we've got all of our sheets with the individual visualizations on them. It's time now to put them all together in a dashboard. \n",
    "\n",
    "**Note**: Generally with a dashboard, I would put related pieces of information together so that I could do cross-filtering and visualize data that all relates to the same subsect of the main data source. In the dashboard for this project, the visualizations don't have any common connected meaning. However, I'm still going to go ahead and put them all on the same dashboard just so we can capture everything we've analyzed into one view. Onward."
   ]
  },
  {
   "cell_type": "markdown",
   "id": "38829bcf",
   "metadata": {
    "papermill": {
     "duration": 0.00545,
     "end_time": "2023-04-07T12:24:46.740440",
     "exception": false,
     "start_time": "2023-04-07T12:24:46.734990",
     "status": "completed"
    },
    "tags": []
   },
   "source": [
    "I'm going to take a second to gush and say that I really love Tableau's dashboard functionality. It allows me a lot of freedom with my creative expressions. A style that has particularly peaked my interest is the transparent sheets, as you'll see represented numerous times in this dashboard I've created. Depending on the context of the analysis, I would choose to display the data in a more appropriate manner. However, being that this is a personal project, I decided to have some fun with it.\n",
    "[![Screenshot-2022-12-13-at-8-21-49-AM.png](https://i.postimg.cc/hj9Mhsk1/Screenshot-2022-12-13-at-8-21-49-AM.png)](https://postimg.cc/Q9dcyQxF)\n",
    " In the first part of the dashboard, I created some containers and then added my banana viz with a corresponding banana background. I had to change a lot of the settings in my worksheet (such as white font) in order to make it work, but I'm really happy with how it turned out."
   ]
  },
  {
   "cell_type": "markdown",
   "id": "641bce8d",
   "metadata": {
    "papermill": {
     "duration": 0.00545,
     "end_time": "2023-04-07T12:24:46.751580",
     "exception": false,
     "start_time": "2023-04-07T12:24:46.746130",
     "status": "completed"
    },
    "tags": []
   },
   "source": [
    "The banana part is looking good, so lets move on to beer prices. Once again I did transparent sheets and format tweaking to get the proper look for my beer portion. \n",
    "[![Screenshot-2022-12-13-at-9-13-59-AM.png](https://i.postimg.cc/0jXtqjgT/Screenshot-2022-12-13-at-9-13-59-AM.png)](https://postimg.cc/dZdR2qV6)\n",
    "\n",
    "This one gave me more issues with the column labels. I opted for removing the outer (restaurant price) labels and adding mark labels on the inner (market price) ones so that the labels would be contained within the bars and I could make the chart flush with the bottom of the page. This gave it a cleaner look, but unfortunately United Arab Emirates overruns just a bit. Overall, I didn't think it was too much of an offender so I left it in. I plan on going back and fixing this later on."
   ]
  },
  {
   "cell_type": "markdown",
   "id": "71cce4fa",
   "metadata": {
    "papermill": {
     "duration": 0.005441,
     "end_time": "2023-04-07T12:24:46.762684",
     "exception": false,
     "start_time": "2023-04-07T12:24:46.757243",
     "status": "completed"
    },
    "tags": []
   },
   "source": [
    "Next I worked the heat map into the dashboard. I didn't do an overlay here because I liked the way the \"outdoors\" map looked and I was worried about improper alignment. \n",
    "\n",
    "[![Screenshot-2022-12-13-at-10-55-10-AM.png](https://i.postimg.cc/sD9YS10s/Screenshot-2022-12-13-at-10-55-10-AM.png)](https://postimg.cc/Ln5gF4pb)"
   ]
  },
  {
   "cell_type": "markdown",
   "id": "d37e360c",
   "metadata": {
    "papermill": {
     "duration": 0.005527,
     "end_time": "2023-04-07T12:24:46.774222",
     "exception": false,
     "start_time": "2023-04-07T12:24:46.768695",
     "status": "completed"
    },
    "tags": []
   },
   "source": [
    "Not much to do or format here with the map. It was pretty straightforward. So moving on to the Toyota. "
   ]
  },
  {
   "cell_type": "markdown",
   "id": "69db77d8",
   "metadata": {
    "papermill": {
     "duration": 0.005456,
     "end_time": "2023-04-07T12:24:46.785424",
     "exception": false,
     "start_time": "2023-04-07T12:24:46.779968",
     "status": "completed"
    },
    "tags": []
   },
   "source": [
    "This last one (Toyota cost) gave me some trouble in the formatting department. \n",
    "\n",
    "[![Screenshot-2022-12-13-at-2-17-44-PM.png](https://i.postimg.cc/x1B8jJw9/Screenshot-2022-12-13-at-2-17-44-PM.png)](https://postimg.cc/yDXsvd6G)\n",
    "\n",
    "I had some text blocks I needed to describe the data in a short and concise manner without being ambiguous in meaning. I think in the end in all came together pretty well, but I worry the wording is a little confusing. I'll probably go back and re-work it later when I've had more time to think about it. \n",
    "\n",
    "The other challenge was the font colors with the light and dark background, but I feel good about how that all turned out. \n",
    "\n",
    "To wrap it all up, I put a signature in the bottom right portion of the dashboard. This is normally where I would put a company logo or copyright notice. I hadn't prepared any special, personal signature or logo for this project so it's not terribly exciting but it works for now."
   ]
  },
  {
   "cell_type": "markdown",
   "id": "e111f932",
   "metadata": {
    "papermill": {
     "duration": 0.00535,
     "end_time": "2023-04-07T12:24:46.796355",
     "exception": false,
     "start_time": "2023-04-07T12:24:46.791005",
     "status": "completed"
    },
    "tags": []
   },
   "source": [
    "#### With all that said, here's the final completed dashboard in presentation view. Also, I've included screenshots for the individual components.\n",
    "\n",
    "[![FInal-dashboard.png](https://i.postimg.cc/TwzBpGRL/FInal-dashboard.png)](https://postimg.cc/FdxTBMkN)\n",
    "\n",
    "[![Final-Banana.png](https://i.postimg.cc/j2CQ0JVy/Final-Banana.png)](https://postimg.cc/kR3tWGg5)\n",
    "\n",
    "[![Final-Beer.png](https://i.postimg.cc/1RWJCyxp/Final-Beer.png)](https://postimg.cc/c6nR6yLH)\n",
    "\n",
    "[![Final-Map.png](https://i.postimg.cc/RVk1yFgn/Final-Map.png)](https://postimg.cc/MvYjjW2W)\n",
    "\n",
    "[![Final-Car.png](https://i.postimg.cc/MGx7ZL26/Final-Car.png)](https://postimg.cc/CRPBmmxX)\n",
    "**click on the image(s) to get a larger view w/ zoom\n",
    "\n",
    "In presentation view, you can notice that there are some alignment issues. During the creation process, I had to tweak some of my containers to allow for proper background image sizing. If I were to be presenting this professionally, then I would spend a lot more time with the minor formatting/alignment issues, but for this personal project I'm happy overall with the results. \n",
    "\n",
    "**Note**: Here's the [link](https://public.tableau.com/app/profile/rhett4736/viz/GlobalCostofLiving_16708616563310/Dashboard1) to my Tableau Public version of this dashboard. Here you can play around with it interactively. As of now the images are displaying correctly online, but sometimes I've had issues with the images not being shown. Let me know in the comments if you can't get it to work, and I'll take another look."
   ]
  },
  {
   "cell_type": "markdown",
   "id": "18ea1789",
   "metadata": {
    "papermill": {
     "duration": 0.005375,
     "end_time": "2023-04-07T12:24:46.807320",
     "exception": false,
     "start_time": "2023-04-07T12:24:46.801945",
     "status": "completed"
    },
    "tags": []
   },
   "source": [
    "### Conclusion \n",
    "\n",
    "In conclusion, I'll be buying all of my cars directly from Cameroon now. In all seriousness, this was a fun project. I know the data may not all be entirely accurate and my dashboard was a bit all over the place in terms of what data was being shown, but my overall aim was just to get my hands dirty with Tableau and try out a bunch of things that I've learned in classes I've taken recently. I've been using Tableau in a very basic way for a few years now, but taking a course really opened my mind to all that can be done with the tool. I look forward to playing around a lot more with everything Tableau is capable of doing. Alas, Tableau has dethroned Power BI as my favorite visualization software....for now. Cheers and thanks for stopping by!"
   ]
  },
  {
   "cell_type": "code",
   "execution_count": null,
   "id": "cb4e50ad",
   "metadata": {
    "papermill": {
     "duration": 0.00526,
     "end_time": "2023-04-07T12:24:46.818213",
     "exception": false,
     "start_time": "2023-04-07T12:24:46.812953",
     "status": "completed"
    },
    "tags": []
   },
   "outputs": [],
   "source": []
  }
 ],
 "metadata": {
  "kernelspec": {
   "display_name": "Python 3",
   "language": "python",
   "name": "python3"
  },
  "language_info": {
   "codemirror_mode": {
    "name": "ipython",
    "version": 3
   },
   "file_extension": ".py",
   "mimetype": "text/x-python",
   "name": "python",
   "nbconvert_exporter": "python",
   "pygments_lexer": "ipython3",
   "version": "3.7.12"
  },
  "papermill": {
   "default_parameters": {},
   "duration": 10.906142,
   "end_time": "2023-04-07T12:24:47.546429",
   "environment_variables": {},
   "exception": null,
   "input_path": "__notebook__.ipynb",
   "output_path": "__notebook__.ipynb",
   "parameters": {},
   "start_time": "2023-04-07T12:24:36.640287",
   "version": "2.3.4"
  }
 },
 "nbformat": 4,
 "nbformat_minor": 5
}
